{
 "cells": [
  {
   "cell_type": "code",
   "execution_count": null,
   "metadata": {
    "id": "zZfkG0mLeIUl"
   },
   "outputs": [],
   "source": [
    "import numpy as np\n",
    "import pandas as pd\n",
    "import matplotlib.pyplot as plt\n",
    "from sklearn.preprocessing import PolynomialFeatures\n",
    "from sklearn.model_selection import train_test_split\n",
    "from sklearn.datasets import load_boston\n",
    "from sklearn.metrics import mean_squared_error\n",
    "from sklearn.linear_model import LinearRegression"
   ]
  },
  {
   "cell_type": "code",
   "execution_count": null,
   "metadata": {
    "colab": {
     "base_uri": "https://localhost:8080/"
    },
    "id": "A0B2sPrkeMoa",
    "outputId": "93740ff5-1704-4bc5-898f-1306ef43e3b5"
   },
   "outputs": [],
   "source": [
    "data = load_boston()\n",
    "feature_names = data.feature_names\n",
    "df = pd.DataFrame(data.data, columns=data.feature_names)\n",
    "df['MEDV'] = pd.Series(data.target)"
   ]
  },
  {
   "cell_type": "code",
   "execution_count": null,
   "metadata": {
    "id": "ygZ97Mmnlayf"
   },
   "outputs": [],
   "source": [
    "#MEDV is the output so we drop it from df_X\n",
    "\n",
    "df_X=df.drop('MEDV', axis=1, inplace=False)\n",
    "df_Y=df['MEDV']"
   ]
  },
  {
   "cell_type": "code",
   "execution_count": null,
   "metadata": {
    "id": "Pg02awAqmI7o"
   },
   "outputs": [],
   "source": [
    "#Testing various hypothesis with different degrees\n",
    "########################################################\n",
    "\n",
    "#rms_array is the array tht contains error for each degree so that\n",
    "#we can know the best degree by getting the lowest error in the array\n",
    "\n",
    "rms_array=[]\n",
    "\n",
    "#for loop loops on different degrees from 1 to 8\n",
    "#LinearRegression is used in this assignment\n",
    "#Validation is used so that y-val is compared to X_val\n",
    "for i in range(1,8):\n",
    "  poly = PolynomialFeatures(degree= i, include_bias=False)\n",
    "  poly_features = poly.fit_transform(df_X)\n",
    "  X_train, X_test, y_train, y_test = train_test_split(poly_features, df_Y, test_size=0.4, random_state=1)\n",
    "  X_val, X_test, y_val, y_test = train_test_split(X_test, y_test, test_size=0.5, random_state=1)\n",
    "  Reg_type = LinearRegression()\n",
    "  Reg_type.fit(X_train, y_train)\n",
    "  poly_reg_y_predicted = Reg_type.predict(X_val)\n",
    "  Reg_err = np.sqrt(mean_squared_error(y_val, poly_reg_y_predicted))\n",
    "  rms_array.append(Reg_err) "
   ]
  },
  {
   "cell_type": "code",
   "execution_count": null,
   "metadata": {
    "colab": {
     "base_uri": "https://localhost:8080/"
    },
    "id": "wohplBmbvmcK",
    "outputId": "9180c45a-689b-41a5-f807-c87c47c19943"
   },
   "outputs": [
    {
     "name": "stdout",
     "output_type": "stream",
     "text": [
      "[5.456971927684733, 5.707016121069094, 75.68075671685065, 259.70721960205583, 291.3397813754658, 221.44143413912627, 226.15136714697434]\n"
     ]
    }
   ],
   "source": [
    "print(rms_array)"
   ]
  },
  {
   "cell_type": "code",
   "execution_count": null,
   "metadata": {
    "colab": {
     "base_uri": "https://localhost:8080/"
    },
    "id": "fXgF0dZHv8RK",
    "outputId": "5069938b-784c-4489-fd8e-022712d173bd"
   },
   "outputs": [
    {
     "data": {
      "text/plain": [
       "4.547289065278924"
      ]
     },
     "execution_count": 34,
     "metadata": {},
     "output_type": "execute_result"
    }
   ],
   "source": [
    "#Test on degree with the lowest error from rms_array to make sure that no big difference between them\n",
    "poly = PolynomialFeatures(degree= 1, include_bias=False)\n",
    "poly_features = poly.fit_transform(df_X)\n",
    "X_train, X_test, y_train, y_test = train_test_split(poly_features, df_Y, test_size=0.4, random_state=1)\n",
    "X_val, X_test, y_val, y_test = train_test_split(X_test, y_test, test_size=0.5, random_state=1)\n",
    "Reg_type = LinearRegression()\n",
    "Reg_type.fit(X_train, y_train)\n",
    "poly_reg_y_predicted = Reg_type.predict(X_test)\n",
    "Reg_err = np.sqrt(mean_squared_error(y_test, poly_reg_y_predicted))\n",
    "Reg_err"
   ]
  },
  {
   "cell_type": "code",
   "execution_count": null,
   "metadata": {
    "colab": {
     "base_uri": "https://localhost:8080/"
    },
    "id": "lCelCi_v6UEd",
    "outputId": "d735597d-520f-4aa6-dd35-d26cf3970b49"
   },
   "outputs": [
    {
     "name": "stdout",
     "output_type": "stream",
     "text": [
      "training score for alpha= 1e-05 : 0.7468316515844864\n",
      "test score for alpha = 1e-05 : 0.7366333554323465\n",
      "training score for alpha= 0.0001 : 0.746831609061166\n",
      "test score for alpha = 0.0001 : 0.7366212347000438\n",
      "training score for alpha= 0.001 : 0.7468273562228122\n",
      "test score for alpha = 0.001 : 0.7364961612391743\n",
      "training score for alpha= 0.01 : 0.7464028354764276\n",
      "test score for alpha = 0.01 : 0.7348628113960634\n",
      "training score for alpha= 0.1 : 0.7324473082335632\n",
      "test score for alpha = 0.1 : 0.7156255257568283\n"
     ]
    }
   ],
   "source": [
    "#Applying Regularization\n",
    "#Theta is deacreased near to zero but not equal to zero\n",
    "#alpha is the intensity of the penalty\n",
    "\n",
    "from sklearn.linear_model import Lasso\n",
    " \n",
    "alpha_arr=[0.00001,0.0001,0.001,0.01,0.1] \n",
    "for i in alpha_arr:  \n",
    "  lasso = Lasso(alpha=i, max_iter=10e5)\n",
    "  lasso.fit(X_train,y_train)\n",
    "  train_score=lasso.score(X_train,y_train)\n",
    "  test_score=lasso.score(X_test,y_test) \n",
    "  print ('Training score for alpha= ' + str(i) + ' :' , train_score) \n",
    "  print ('Test score for alpha = ' + str(i) + ' :' , test_score)\n"
   ]
  }
 ],
 "metadata": {
  "colab": {
   "collapsed_sections": [],
   "name": "Untitled19.ipynb",
   "provenance": []
  },
  "kernelspec": {
   "display_name": "Python 3",
   "language": "python",
   "name": "python3"
  },
  "language_info": {
   "codemirror_mode": {
    "name": "ipython",
    "version": 3
   },
   "file_extension": ".py",
   "mimetype": "text/x-python",
   "name": "python",
   "nbconvert_exporter": "python",
   "pygments_lexer": "ipython3",
   "version": "3.7.3"
  }
 },
 "nbformat": 4,
 "nbformat_minor": 1
}
